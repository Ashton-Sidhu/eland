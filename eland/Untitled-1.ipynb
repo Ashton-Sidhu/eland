{
 "cells": [
  {
   "cell_type": "code",
   "execution_count": 1,
   "metadata": {},
   "outputs": [],
   "source": [
    "%load_ext autoreload\n",
    "%autoreload 2"
   ]
  },
  {
   "cell_type": "code",
   "execution_count": 6,
   "metadata": {},
   "outputs": [],
   "source": [
    "from elasticsearch import Elasticsearch\n",
    "\n",
    "es_client = Elasticsearch(['http://localhost:9200'])"
   ]
  },
  {
   "cell_type": "code",
   "execution_count": 5,
   "metadata": {},
   "outputs": [],
   "source": [
    "import eland as ed"
   ]
  },
  {
   "cell_type": "code",
   "execution_count": 2,
   "metadata": {},
   "outputs": [],
   "source": [
    "import pandas as pd"
   ]
  },
  {
   "cell_type": "code",
   "execution_count": 3,
   "metadata": {},
   "outputs": [],
   "source": [
    "df = pd.DataFrame(\n",
    "    {\n",
    "        \"process.name\": [\"process1\"],\n",
    "        \"file.hash.sha256\": [\"hash1\"],\n",
    "        \"file.hash.sha1\": [\"hash2\"],\n",
    "        \"label\": [1],\n",
    "    }\n",
    ")"
   ]
  },
  {
   "cell_type": "code",
   "execution_count": 8,
   "metadata": {},
   "outputs": [],
   "source": [
    "index = \"test_mapping2\""
   ]
  },
  {
   "cell_type": "code",
   "execution_count": 9,
   "metadata": {},
   "outputs": [
    {
     "name": "stderr",
     "output_type": "stream",
     "text": [
      "/home/sidhu/.local/share/virtualenvs/eland-JIur908e/lib/python3.8/site-packages/elasticsearch/connection/base.py:200: ElasticsearchWarning: Elasticsearch built-in security features are not enabled. Without authentication, your cluster could be accessible to anyone. See https://www.elastic.co/guide/en/elasticsearch/reference/7.16/security-minimal-setup.html to enable security.\n",
      "  warnings.warn(message, category=ElasticsearchWarning)\n",
      "/home/sidhu/.local/share/virtualenvs/eland-JIur908e/lib/python3.8/site-packages/elasticsearch/connection/base.py:200: ElasticsearchWarning: Elasticsearch built-in security features are not enabled. Without authentication, your cluster could be accessible to anyone. See https://www.elastic.co/guide/en/elasticsearch/reference/7.16/security-minimal-setup.html to enable security.\n",
      "  warnings.warn(message, category=ElasticsearchWarning)\n"
     ]
    },
    {
     "data": {
      "text/html": [
       "<div>\n",
       "<style scoped>\n",
       "    .dataframe tbody tr th:only-of-type {\n",
       "        vertical-align: middle;\n",
       "    }\n",
       "\n",
       "    .dataframe tbody tr th {\n",
       "        vertical-align: top;\n",
       "    }\n",
       "\n",
       "    .dataframe thead th {\n",
       "        text-align: right;\n",
       "    }\n",
       "</style>\n",
       "<table border=\"1\" class=\"dataframe\">\n",
       "  <thead>\n",
       "    <tr style=\"text-align: right;\">\n",
       "      <th></th>\n",
       "      <th>file.hash.sha1</th>\n",
       "      <th>file.hash.sha256</th>\n",
       "      <th>label</th>\n",
       "      <th>process.name</th>\n",
       "    </tr>\n",
       "  </thead>\n",
       "  <tbody>\n",
       "    <tr>\n",
       "      <th>GLBDBX4BpoMDJ9chv_8q</th>\n",
       "      <td>hash2</td>\n",
       "      <td>hash1</td>\n",
       "      <td>1</td>\n",
       "      <td>process1</td>\n",
       "    </tr>\n",
       "  </tbody>\n",
       "</table>\n",
       "</div>\n",
       "<p>1 rows × 4 columns</p>"
      ],
      "text/plain": [
       "                     file.hash.sha1 file.hash.sha256  label process.name\n",
       "GLBDBX4BpoMDJ9chv_8q          hash2            hash1      1     process1\n",
       "\n",
       "[1 rows x 4 columns]"
      ]
     },
     "execution_count": 9,
     "metadata": {},
     "output_type": "execute_result"
    }
   ],
   "source": [
    "ed.pandas_to_eland(\n",
    "    df,\n",
    "    es_client,\n",
    "    es_dest_index=index,\n",
    "    es_if_exists=\"append\",\n",
    "    es_refresh=True,\n",
    "    use_pandas_index_for_es_ids=False\n",
    ")"
   ]
  },
  {
   "cell_type": "code",
   "execution_count": 11,
   "metadata": {},
   "outputs": [
    {
     "name": "stdout",
     "output_type": "stream",
     "text": [
      "{'process.name': {'type': 'keyword'}, 'file.hash.sha256': {'type': 'keyword'}, 'file.hash.sha1': {'type': 'keyword'}, 'label': {'type': 'long'}} {'file.hash.sha1': {'type': 'keyword'}, 'file.hash.sha256': {'type': 'keyword'}, 'label': {'type': 'long'}, 'process.name': {'type': 'keyword'}}\n"
     ]
    },
    {
     "name": "stderr",
     "output_type": "stream",
     "text": [
      "/home/sidhu/.local/share/virtualenvs/eland-JIur908e/lib/python3.8/site-packages/elasticsearch/connection/base.py:200: ElasticsearchWarning: Elasticsearch built-in security features are not enabled. Without authentication, your cluster could be accessible to anyone. See https://www.elastic.co/guide/en/elasticsearch/reference/7.16/security-minimal-setup.html to enable security.\n",
      "  warnings.warn(message, category=ElasticsearchWarning)\n"
     ]
    }
   ],
   "source": [
    "final_df = ed.pandas_to_eland(\n",
    "    df,\n",
    "    es_client,\n",
    "    es_dest_index=index,\n",
    "    es_if_exists=\"append\",\n",
    "    es_refresh=True,\n",
    "    use_pandas_index_for_es_ids=False\n",
    ").to_pandas()"
   ]
  },
  {
   "cell_type": "code",
   "execution_count": 30,
   "metadata": {},
   "outputs": [
    {
     "data": {
      "text/html": [
       "<div>\n",
       "<style scoped>\n",
       "    .dataframe tbody tr th:only-of-type {\n",
       "        vertical-align: middle;\n",
       "    }\n",
       "\n",
       "    .dataframe tbody tr th {\n",
       "        vertical-align: top;\n",
       "    }\n",
       "\n",
       "    .dataframe thead th {\n",
       "        text-align: right;\n",
       "    }\n",
       "</style>\n",
       "<table border=\"1\" class=\"dataframe\">\n",
       "  <thead>\n",
       "    <tr style=\"text-align: right;\">\n",
       "      <th></th>\n",
       "      <th>file.hash.sha1</th>\n",
       "      <th>file.hash.sha256</th>\n",
       "      <th>label</th>\n",
       "      <th>process.name</th>\n",
       "    </tr>\n",
       "  </thead>\n",
       "  <tbody>\n",
       "    <tr>\n",
       "      <th>file.hash.sha1</th>\n",
       "      <td>hash1</td>\n",
       "      <td>hash2</td>\n",
       "      <td>1</td>\n",
       "      <td>process1</td>\n",
       "    </tr>\n",
       "    <tr>\n",
       "      <th>file.hash.sha256</th>\n",
       "      <td>hash1</td>\n",
       "      <td>hash2</td>\n",
       "      <td>1</td>\n",
       "      <td>process1</td>\n",
       "    </tr>\n",
       "    <tr>\n",
       "      <th>label</th>\n",
       "      <td>hash1</td>\n",
       "      <td>hash2</td>\n",
       "      <td>1</td>\n",
       "      <td>process1</td>\n",
       "    </tr>\n",
       "    <tr>\n",
       "      <th>process.name</th>\n",
       "      <td>hash1</td>\n",
       "      <td>hash2</td>\n",
       "      <td>1</td>\n",
       "      <td>process1</td>\n",
       "    </tr>\n",
       "  </tbody>\n",
       "</table>\n",
       "</div>"
      ],
      "text/plain": [
       "                 file.hash.sha1 file.hash.sha256  label process.name\n",
       "file.hash.sha1            hash1            hash2      1     process1\n",
       "file.hash.sha256          hash1            hash2      1     process1\n",
       "label                     hash1            hash2      1     process1\n",
       "process.name              hash1            hash2      1     process1"
      ]
     },
     "execution_count": 30,
     "metadata": {},
     "output_type": "execute_result"
    }
   ],
   "source": [
    "data = {\n",
    "    \"file.hash.sha1\": [\"hash1\"],\n",
    "    \"file.hash.sha256\": [\"hash2\"],\n",
    "    \"label\": [1],\n",
    "    \"process.name\": [\"process1\"],\n",
    "}\n",
    "df1 = pd.DataFrame(data, data)\n",
    "df1"
   ]
  },
  {
   "cell_type": "code",
   "execution_count": 22,
   "metadata": {},
   "outputs": [
    {
     "data": {
      "text/html": [
       "<div>\n",
       "<style scoped>\n",
       "    .dataframe tbody tr th:only-of-type {\n",
       "        vertical-align: middle;\n",
       "    }\n",
       "\n",
       "    .dataframe tbody tr th {\n",
       "        vertical-align: top;\n",
       "    }\n",
       "\n",
       "    .dataframe thead th {\n",
       "        text-align: right;\n",
       "    }\n",
       "</style>\n",
       "<table border=\"1\" class=\"dataframe\">\n",
       "  <thead>\n",
       "    <tr style=\"text-align: right;\">\n",
       "      <th></th>\n",
       "      <th>file.hash.sha1</th>\n",
       "      <th>file.hash.sha256</th>\n",
       "      <th>label</th>\n",
       "      <th>process.name</th>\n",
       "    </tr>\n",
       "  </thead>\n",
       "  <tbody>\n",
       "    <tr>\n",
       "      <th>GbBDBX4BpoMDJ9ch2P-M</th>\n",
       "      <td>hash2</td>\n",
       "      <td>hash1</td>\n",
       "      <td>1</td>\n",
       "      <td>process1</td>\n",
       "    </tr>\n",
       "  </tbody>\n",
       "</table>\n",
       "</div>"
      ],
      "text/plain": [
       "                     file.hash.sha1 file.hash.sha256  label process.name\n",
       "GbBDBX4BpoMDJ9ch2P-M          hash2            hash1      1     process1"
      ]
     },
     "execution_count": 22,
     "metadata": {},
     "output_type": "execute_result"
    }
   ],
   "source": [
    "final_df.iloc[[1]]"
   ]
  },
  {
   "cell_type": "code",
   "execution_count": 69,
   "metadata": {},
   "outputs": [],
   "source": [
    "dest_mapping = es_client.indices.get_mapping(index=index)[\n",
    "                index\n",
    "            ]"
   ]
  },
  {
   "cell_type": "code",
   "execution_count": 70,
   "metadata": {},
   "outputs": [
    {
     "data": {
      "text/plain": [
       "{'mappings': {'properties': {'file': {'properties': {'hash': {'properties': {'sha1': {'type': 'keyword'},\n",
       "       'sha256': {'type': 'keyword'}}}}},\n",
       "   'label': {'type': 'long'},\n",
       "   'process': {'properties': {'name': {'type': 'keyword'}}}}}}"
      ]
     },
     "execution_count": 70,
     "metadata": {},
     "output_type": "execute_result"
    }
   ],
   "source": [
    "dest_mapping"
   ]
  },
  {
   "cell_type": "code",
   "execution_count": 101,
   "metadata": {},
   "outputs": [],
   "source": [
    "def extract_column_names(d, col_name):\n",
    "\n",
    "    for k,v in d.items():\n",
    "        if k == \"type\" and not isinstance(v, dict):\n",
    "            return col_name\n",
    "         \n",
    "        if k != \"properties\":\n",
    "            col_name = f\"{col_name}.{k}\"\n",
    "\n",
    "    col_name = extract_column_names(v, col_name)\n",
    "\n",
    "    return col_name"
   ]
  },
  {
   "cell_type": "code",
   "execution_count": 111,
   "metadata": {},
   "outputs": [],
   "source": [
    "df = pd.json_normalize(dest_mapping[\"mappings\"][\"properties\"])"
   ]
  },
  {
   "cell_type": "code",
   "execution_count": 128,
   "metadata": {},
   "outputs": [],
   "source": [
    "records = {\"mappings\": {\"properties\": {}}}\n",
    "\n",
    "for col,col_type in zip(df.columns, df.iloc[0]):\n",
    "    col_name = col.replace(\".properties\", \"\").replace(\".type\",\"\")\n",
    "    records[\"mappings\"][\"properties\"][col_name] = {\"type\": col_type}\n",
    "\n"
   ]
  },
  {
   "cell_type": "code",
   "execution_count": 130,
   "metadata": {},
   "outputs": [
    {
     "data": {
      "text/plain": [
       "{'mappings': {'properties': {'file.hash.sha1': {'type': 'keyword'},\n",
       "   'file.hash.sha256': {'type': 'keyword'},\n",
       "   'label': {'type': 'long'},\n",
       "   'process.name': {'type': 'keyword'}}}}"
      ]
     },
     "execution_count": 130,
     "metadata": {},
     "output_type": "execute_result"
    }
   ],
   "source": [
    "records"
   ]
  },
  {
   "cell_type": "code",
   "execution_count": 100,
   "metadata": {},
   "outputs": [
    {
     "data": {
      "text/plain": [
       "{'properties': {'sha1': {'type': 'keyword'}, 'sha256': {'type': 'keyword'}}}"
      ]
     },
     "execution_count": 100,
     "metadata": {},
     "output_type": "execute_result"
    }
   ],
   "source": [
    "dest_mapping[\"mappings\"][\"properties\"][\"file\"][\"properties\"][\"hash\"]"
   ]
  },
  {
   "cell_type": "code",
   "execution_count": 51,
   "metadata": {},
   "outputs": [
    {
     "data": {
      "text/plain": [
       "'label'"
      ]
     },
     "execution_count": 51,
     "metadata": {},
     "output_type": "execute_result"
    }
   ],
   "source": [
    "\".\".join([\"label\"])"
   ]
  },
  {
   "cell_type": "code",
   "execution_count": null,
   "metadata": {},
   "outputs": [],
   "source": []
  }
 ],
 "metadata": {
  "interpreter": {
   "hash": "a4e377a64fa06eb866bfeb92d02adfe8420325b7057dd732fb302fa0a637b068"
  },
  "kernelspec": {
   "display_name": "Python 3.9.1 64-bit ('eland': pyenv)",
   "language": "python",
   "name": "python3"
  },
  "language_info": {
   "codemirror_mode": {
    "name": "ipython",
    "version": 3
   },
   "file_extension": ".py",
   "mimetype": "text/x-python",
   "name": "python",
   "nbconvert_exporter": "python",
   "pygments_lexer": "ipython3",
   "version": "3.8.10"
  },
  "orig_nbformat": 4
 },
 "nbformat": 4,
 "nbformat_minor": 2
}
